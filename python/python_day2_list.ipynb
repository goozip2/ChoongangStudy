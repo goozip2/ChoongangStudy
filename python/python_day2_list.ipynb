{
 "cells": [
  {
   "cell_type": "markdown",
   "id": "3da28d42-0aef-4d0b-94b4-bf8d434ed3c1",
   "metadata": {},
   "source": [
    "## list"
   ]
  },
  {
   "cell_type": "markdown",
   "id": "374ddbac-1f45-4caa-b21e-546027b7a4be",
   "metadata": {},
   "source": [
    "## 1. 만들기"
   ]
  },
  {
   "cell_type": "code",
   "execution_count": 6,
   "id": "8e620ec6-de4b-4d2f-9aaa-b4575dd4cc1c",
   "metadata": {},
   "outputs": [
    {
     "name": "stdout",
     "output_type": "stream",
     "text": [
      "[]\n"
     ]
    }
   ],
   "source": [
    "# 빈 리스트 만들기1\n",
    "li = []\n",
    "print(li)"
   ]
  },
  {
   "cell_type": "code",
   "execution_count": 7,
   "id": "42f6deed-6111-4ee0-9b09-0463f19f9a42",
   "metadata": {},
   "outputs": [
    {
     "name": "stdout",
     "output_type": "stream",
     "text": [
      "[]\n"
     ]
    }
   ],
   "source": [
    "# 빈 리스트 만들기2\n",
    "li = list()\n",
    "print(li)"
   ]
  },
  {
   "cell_type": "code",
   "execution_count": 8,
   "id": "351e50de-7cc1-420a-8973-14453f6e6cd7",
   "metadata": {},
   "outputs": [
    {
     "name": "stdout",
     "output_type": "stream",
     "text": [
      "[1, 2, 3]\n"
     ]
    }
   ],
   "source": [
    "# 값이 들어간 리스트 만들기\n",
    "li = [1,2,3]\n",
    "print(li)"
   ]
  },
  {
   "cell_type": "code",
   "execution_count": 10,
   "id": "7d87a8b3-a0c5-47cc-a01b-54b148228730",
   "metadata": {},
   "outputs": [
    {
     "name": "stdout",
     "output_type": "stream",
     "text": [
      "[1, 2, 3, 'hello', 'hello']\n"
     ]
    }
   ],
   "source": [
    "li = [1,2,3,'hello', \"hello\"]\n",
    "print(li)"
   ]
  },
  {
   "cell_type": "markdown",
   "id": "7969f706-29fa-4409-a192-1806820c4e6f",
   "metadata": {},
   "source": [
    "문자열은 작은 따옴표 사용 추천"
   ]
  },
  {
   "cell_type": "code",
   "execution_count": 35,
   "id": "c0ea807c-2574-4cb0-a26c-9df568525463",
   "metadata": {},
   "outputs": [
    {
     "name": "stdout",
     "output_type": "stream",
     "text": [
      "[1, 2, 3, [1, 2], [3, 4]]\n"
     ]
    },
    {
     "data": {
      "text/plain": [
       "5"
      ]
     },
     "execution_count": 35,
     "metadata": {},
     "output_type": "execute_result"
    }
   ],
   "source": [
    "# 리스트 길이 출력\n",
    "li = [1,2,3,[1,2,],[3,4]]\n",
    "print(li)\n",
    "len(li)"
   ]
  },
  {
   "cell_type": "code",
   "execution_count": null,
   "id": "4a8e1b76-b677-413c-947d-2b334335cdea",
   "metadata": {},
   "outputs": [],
   "source": []
  },
  {
   "cell_type": "markdown",
   "id": "694496b7-fb90-4cfc-96f4-8a3053e1b024",
   "metadata": {},
   "source": [
    "## 2. 읽기 (indexing, slicing)"
   ]
  },
  {
   "cell_type": "code",
   "execution_count": 26,
   "id": "f511c150-05b2-489f-8cf4-5c51d42b26b5",
   "metadata": {},
   "outputs": [
    {
     "name": "stdout",
     "output_type": "stream",
     "text": [
      "1\n",
      "1\n"
     ]
    }
   ],
   "source": [
    "# indexing\n",
    "li = [1,2,3,[1,2,],[3,4]]\n",
    "print(li[0])\n",
    "print(li[-0])"
   ]
  },
  {
   "cell_type": "code",
   "execution_count": 27,
   "id": "dcb7061c-074d-494f-b8c5-d0540b16eaf1",
   "metadata": {},
   "outputs": [
    {
     "data": {
      "text/plain": [
       "['hello', 'hello']"
      ]
     },
     "execution_count": 27,
     "metadata": {},
     "output_type": "execute_result"
    }
   ],
   "source": [
    "# 슬라이싱\n",
    "li = [1,2,3,'hello', \"hello\"]\n",
    "li[3:5]"
   ]
  },
  {
   "cell_type": "code",
   "execution_count": 31,
   "id": "30879599-ef52-4485-83de-6aa416e7a947",
   "metadata": {},
   "outputs": [
    {
     "data": {
      "text/plain": [
       "4"
      ]
     },
     "execution_count": 31,
     "metadata": {},
     "output_type": "execute_result"
    }
   ],
   "source": [
    "li = [1,2,3, 'hello', \"hello\", [4,5,6]]\n",
    "li[5][0]"
   ]
  },
  {
   "cell_type": "code",
   "execution_count": 34,
   "id": "eedc24e2-cc23-482e-bb33-2326f576e5be",
   "metadata": {},
   "outputs": [
    {
     "name": "stdout",
     "output_type": "stream",
     "text": [
      "d\n",
      "oo\n",
      "morning\n",
      "Good morning\n"
     ]
    }
   ],
   "source": [
    "# 문자열\n",
    "a = \"Good morning\"\n",
    "len(a)\n",
    "\n",
    "# d 출력\n",
    "print(a[3])\n",
    "\n",
    "# oo 출력\n",
    "print(a[1:3])\n",
    "\n",
    "# morning 출력\n",
    "print(a[5:])\n",
    "\n",
    "# 전체 출력\n",
    "print(a[:])"
   ]
  },
  {
   "cell_type": "code",
   "execution_count": null,
   "id": "2a277d33-4bf1-47df-b727-78247f8fd141",
   "metadata": {},
   "outputs": [],
   "source": []
  },
  {
   "cell_type": "markdown",
   "id": "670bf3d8-e33a-42bf-a11e-ae55d9e03db2",
   "metadata": {},
   "source": [
    "## 3. 수정하기 (append, insert)"
   ]
  },
  {
   "cell_type": "code",
   "execution_count": 36,
   "id": "11d59749-ac10-446b-85a8-f3dabcdb1a03",
   "metadata": {},
   "outputs": [
    {
     "name": "stdout",
     "output_type": "stream",
     "text": [
      "[1, 2, 3, 4]\n"
     ]
    }
   ],
   "source": [
    "li = [1,2,3]\n",
    "li.append(4)\n",
    "print(li)"
   ]
  },
  {
   "cell_type": "code",
   "execution_count": 37,
   "id": "c75c655c-91a3-4264-b016-93eb798622d6",
   "metadata": {},
   "outputs": [
    {
     "name": "stdout",
     "output_type": "stream",
     "text": [
      "[1, 10, 2, 3]\n"
     ]
    }
   ],
   "source": [
    "li = [1,2,3]\n",
    "\n",
    "# 1번 인덱스 자리에 10\n",
    "li.insert(1, 10)\n",
    "print(li)"
   ]
  },
  {
   "cell_type": "markdown",
   "id": "7950e762-fba0-4c33-a740-91945c8932ae",
   "metadata": {},
   "source": [
    "## 4. 삭제하기 (del)"
   ]
  },
  {
   "cell_type": "code",
   "execution_count": 39,
   "id": "49984eb4-ab54-40d6-95a0-3e34ca11f141",
   "metadata": {},
   "outputs": [
    {
     "name": "stdout",
     "output_type": "stream",
     "text": [
      "[2, 3, 4]\n"
     ]
    }
   ],
   "source": [
    "li = [1,2,3,4]\n",
    "del(li[0])\n",
    "print(li)"
   ]
  }
 ],
 "metadata": {
  "kernelspec": {
   "display_name": "Python 3 (ipykernel)",
   "language": "python",
   "name": "python3"
  },
  "language_info": {
   "codemirror_mode": {
    "name": "ipython",
    "version": 3
   },
   "file_extension": ".py",
   "mimetype": "text/x-python",
   "name": "python",
   "nbconvert_exporter": "python",
   "pygments_lexer": "ipython3",
   "version": "3.12.4"
  }
 },
 "nbformat": 4,
 "nbformat_minor": 5
}
