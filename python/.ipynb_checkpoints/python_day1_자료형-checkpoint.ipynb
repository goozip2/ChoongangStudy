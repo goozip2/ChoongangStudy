{
 "cells": [
  {
   "cell_type": "code",
   "execution_count": 1,
   "id": "13dc6b38-5df9-406b-aa20-30e1e58560d3",
   "metadata": {},
   "outputs": [
    {
     "name": "stdout",
     "output_type": "stream",
     "text": [
      "Hello\n"
     ]
    }
   ],
   "source": [
    "print(\"Hello\")"
   ]
  },
  {
   "cell_type": "code",
   "execution_count": 2,
   "id": "c1e51ff1-c030-48c2-9002-a18331b23964",
   "metadata": {},
   "outputs": [
    {
     "name": "stdout",
     "output_type": "stream",
     "text": [
      "0\n",
      "1\n",
      "2\n",
      "3\n",
      "4\n",
      "5\n",
      "6\n",
      "7\n",
      "8\n",
      "9\n"
     ]
    }
   ],
   "source": [
    "for i in range(10):\n",
    "    print(i)"
   ]
  },
  {
   "cell_type": "code",
   "execution_count": 3,
   "id": "fc9278db-3a74-4df6-a52c-7fba1514d4b6",
   "metadata": {},
   "outputs": [
    {
     "name": "stdout",
     "output_type": "stream",
     "text": [
      "0\n",
      "2\n",
      "4\n",
      "6\n",
      "8\n",
      "10\n",
      "12\n",
      "14\n",
      "16\n",
      "18\n"
     ]
    }
   ],
   "source": [
    "for i in range(10):\n",
    "    print(i*2)"
   ]
  },
  {
   "cell_type": "code",
   "execution_count": 6,
   "id": "56e4d0f4-4ddf-407e-aa07-26a8503002fd",
   "metadata": {},
   "outputs": [
    {
     "name": "stdout",
     "output_type": "stream",
     "text": [
      "0\n",
      "0\n",
      "\n",
      "2\n",
      "10\n",
      "\n",
      "4\n",
      "20\n",
      "\n",
      "6\n",
      "30\n",
      "\n",
      "8\n",
      "40\n",
      "\n",
      "10\n",
      "50\n",
      "\n",
      "12\n",
      "60\n",
      "\n",
      "14\n",
      "70\n",
      "\n",
      "16\n",
      "80\n",
      "\n",
      "18\n",
      "90\n",
      "\n"
     ]
    }
   ],
   "source": [
    "for i in range(10):\n",
    "    print(i*2)\n",
    "    print(i*10)\n",
    "    print()"
   ]
  },
  {
   "cell_type": "markdown",
   "id": "b2d42bfb-a4ef-4c8b-b29d-7532261c2d9f",
   "metadata": {},
   "source": [
    "# 파이썬 1교시\n",
    "## 자료형"
   ]
  },
  {
   "cell_type": "markdown",
   "id": "7fe5f3a1-2095-45b7-8c66-168a099ce978",
   "metadata": {},
   "source": [
    "### 1. 숫자형\n",
    "- 정수형 Integer(int)\n",
    "- 실수형 Float(float)"
   ]
  },
  {
   "cell_type": "code",
   "execution_count": 7,
   "id": "c6da13d1-6225-495d-8468-5ede8011b119",
   "metadata": {},
   "outputs": [
    {
     "name": "stdout",
     "output_type": "stream",
     "text": [
      "2\n"
     ]
    }
   ],
   "source": [
    "print(1+1)"
   ]
  },
  {
   "cell_type": "code",
   "execution_count": 8,
   "id": "abceea5a-e7a5-4969-ab79-e9f6ea1ed2cb",
   "metadata": {},
   "outputs": [
    {
     "name": "stdout",
     "output_type": "stream",
     "text": [
      "3\n"
     ]
    }
   ],
   "source": [
    "a = 1\n",
    "b = 2\n",
    "print(a+b)"
   ]
  },
  {
   "cell_type": "code",
   "execution_count": 9,
   "id": "522dd8d8-1649-4d91-a0b6-6443036bf8bd",
   "metadata": {},
   "outputs": [
    {
     "data": {
      "text/plain": [
       "int"
      ]
     },
     "execution_count": 9,
     "metadata": {},
     "output_type": "execute_result"
    }
   ],
   "source": [
    "type(a)"
   ]
  },
  {
   "cell_type": "code",
   "execution_count": 10,
   "id": "a089631f-10b4-4f52-9fbd-ae3a85ddada2",
   "metadata": {},
   "outputs": [
    {
     "data": {
      "text/plain": [
       "float"
      ]
     },
     "execution_count": 10,
     "metadata": {},
     "output_type": "execute_result"
    }
   ],
   "source": [
    "c = 1.2\n",
    "type(c)"
   ]
  },
  {
   "cell_type": "code",
   "execution_count": 12,
   "id": "10795d54-861e-4376-90af-6b450f2c85bc",
   "metadata": {},
   "outputs": [
    {
     "name": "stdout",
     "output_type": "stream",
     "text": [
      "0\n",
      "1\n"
     ]
    }
   ],
   "source": [
    "# print(1+2)\n",
    "# print(1-2)\n",
    "# print(1*2)\n",
    "# print(1/2)\n",
    "print(1//2)\n",
    "print(1%2)"
   ]
  },
  {
   "cell_type": "markdown",
   "id": "0c98ce82-401b-4269-bf60-87844d7b267d",
   "metadata": {},
   "source": [
    "### 2. 문자열\n",
    "- String (Character, String)"
   ]
  },
  {
   "cell_type": "code",
   "execution_count": 13,
   "id": "a2cc77a2-d140-4a03-8019-86d1690ade72",
   "metadata": {},
   "outputs": [],
   "source": [
    "a = \"Hello\""
   ]
  },
  {
   "cell_type": "code",
   "execution_count": 14,
   "id": "e9c2382f-c37a-46d2-afe8-057fd0977b42",
   "metadata": {},
   "outputs": [
    {
     "name": "stdout",
     "output_type": "stream",
     "text": [
      "Hello\n"
     ]
    }
   ],
   "source": [
    "print(a)"
   ]
  },
  {
   "cell_type": "code",
   "execution_count": 15,
   "id": "3ec10101-15ea-4766-b9c8-a1cf4b0cf8bd",
   "metadata": {},
   "outputs": [
    {
     "data": {
      "text/plain": [
       "str"
      ]
     },
     "execution_count": 15,
     "metadata": {},
     "output_type": "execute_result"
    }
   ],
   "source": [
    "type(a)"
   ]
  },
  {
   "cell_type": "code",
   "execution_count": 16,
   "id": "15d0aa7f-c1fe-4d65-b493-a29782604b00",
   "metadata": {},
   "outputs": [
    {
     "data": {
      "text/plain": [
       "str"
      ]
     },
     "execution_count": 16,
     "metadata": {},
     "output_type": "execute_result"
    }
   ],
   "source": [
    "type('a')"
   ]
  },
  {
   "cell_type": "markdown",
   "id": "2ec04ac9-e32d-4f95-8bc6-53173514e5de",
   "metadata": {},
   "source": [
    "### 3. 참 거짓형\n",
    "- bool: boolean"
   ]
  },
  {
   "cell_type": "code",
   "execution_count": 17,
   "id": "6a979b7b-81bb-46d0-8d17-43e094d719c3",
   "metadata": {},
   "outputs": [],
   "source": [
    "a = False"
   ]
  },
  {
   "cell_type": "code",
   "execution_count": 18,
   "id": "bd862513-d60b-4782-b511-7b100e66f7a9",
   "metadata": {},
   "outputs": [
    {
     "name": "stdout",
     "output_type": "stream",
     "text": [
      "False\n"
     ]
    }
   ],
   "source": [
    "print(a)"
   ]
  },
  {
   "cell_type": "code",
   "execution_count": 19,
   "id": "8288f42b-7e0b-4cec-90cf-610b510a5a72",
   "metadata": {},
   "outputs": [
    {
     "data": {
      "text/plain": [
       "bool"
      ]
     },
     "execution_count": 19,
     "metadata": {},
     "output_type": "execute_result"
    }
   ],
   "source": [
    "type(a)"
   ]
  },
  {
   "cell_type": "code",
   "execution_count": 24,
   "id": "d7ce6d7c-3744-4bb8-b084-5c8306c0d244",
   "metadata": {},
   "outputs": [],
   "source": [
    "if (1>2):\n",
    "    print(\"yes\")"
   ]
  },
  {
   "cell_type": "markdown",
   "id": "55f1374a-66e0-4219-9691-196d1073cd75",
   "metadata": {},
   "source": [
    "## 파이썬 고유의 데이터타입\n",
    "- 리스트 list\n",
    "- 튜플 tuple\n",
    "- 딕셔너리 dictionary\n",
    "- 집합 set"
   ]
  },
  {
   "cell_type": "code",
   "execution_count": 25,
   "id": "dd361381-b72a-4b91-a69c-5ee28a9570d3",
   "metadata": {},
   "outputs": [
    {
     "data": {
      "text/plain": [
       "list"
      ]
     },
     "execution_count": 25,
     "metadata": {},
     "output_type": "execute_result"
    }
   ],
   "source": [
    "a = [1,2,3,4,5]\n",
    "type(a)"
   ]
  },
  {
   "cell_type": "code",
   "execution_count": 26,
   "id": "51f3343c-8922-45c3-8e9e-b6eb05083137",
   "metadata": {},
   "outputs": [
    {
     "name": "stdout",
     "output_type": "stream",
     "text": [
      "[1, 2, 3, 4, 5]\n",
      "[1, 2, 3, 4, 5]\n",
      "[1, 2, 3, 4, 5]\n",
      "[1, 2, 3, 4, 5]\n",
      "[1, 2, 3, 4, 5]\n"
     ]
    }
   ],
   "source": [
    "for i in a:\n",
    "    print(a)"
   ]
  },
  {
   "cell_type": "code",
   "execution_count": 27,
   "id": "d9582bed-ce8f-4db3-9772-bc1a5a9be265",
   "metadata": {},
   "outputs": [
    {
     "name": "stdout",
     "output_type": "stream",
     "text": [
      "1\n",
      "2\n",
      "3\n",
      "4\n",
      "5\n"
     ]
    }
   ],
   "source": [
    "for i in a:\n",
    "    print(i)"
   ]
  },
  {
   "cell_type": "code",
   "execution_count": 28,
   "id": "a5c2d2ad-25ab-44ae-a220-f6e94c4fa413",
   "metadata": {},
   "outputs": [
    {
     "name": "stdout",
     "output_type": "stream",
     "text": [
      "2\n",
      "3\n",
      "4\n"
     ]
    }
   ],
   "source": [
    "a = [2,3,4]\n",
    "for i in a:\n",
    "    print(i)"
   ]
  },
  {
   "cell_type": "markdown",
   "id": "243e4aa3-371b-481a-a740-34e8ffbf5f39",
   "metadata": {},
   "source": [
    "### +) CRUD\n",
    "- create\n",
    "- read\n",
    "- update\n",
    "- delete"
   ]
  },
  {
   "cell_type": "code",
   "execution_count": 29,
   "id": "27994b29-c56a-4363-960d-0ff3f0b5dfe5",
   "metadata": {},
   "outputs": [],
   "source": [
    "a = []"
   ]
  },
  {
   "cell_type": "code",
   "execution_count": 31,
   "id": "e50e722a-a715-4df7-82ff-495072420a27",
   "metadata": {},
   "outputs": [],
   "source": [
    "a.append(1)"
   ]
  },
  {
   "cell_type": "code",
   "execution_count": 32,
   "id": "6c6b708a-38e3-4227-95ce-840ff0882744",
   "metadata": {},
   "outputs": [
    {
     "name": "stdout",
     "output_type": "stream",
     "text": [
      "[1]\n"
     ]
    }
   ],
   "source": [
    "print(a)"
   ]
  },
  {
   "cell_type": "code",
   "execution_count": 34,
   "id": "0ea588a4-d177-4cb8-b425-c0c87e3131d2",
   "metadata": {},
   "outputs": [
    {
     "name": "stdout",
     "output_type": "stream",
     "text": [
      "[0, 2, 4, 6, 8]\n"
     ]
    }
   ],
   "source": [
    "a = []\n",
    "for i in range(10):\n",
    "    if i%2 == 0:\n",
    "        a.append(i)\n",
    "print(a)"
   ]
  },
  {
   "cell_type": "code",
   "execution_count": null,
   "id": "a4a8d43c-0fbe-4373-a0e6-40204f84c09b",
   "metadata": {},
   "outputs": [],
   "source": []
  }
 ],
 "metadata": {
  "kernelspec": {
   "display_name": "Python 3 (ipykernel)",
   "language": "python",
   "name": "python3"
  },
  "language_info": {
   "codemirror_mode": {
    "name": "ipython",
    "version": 3
   },
   "file_extension": ".py",
   "mimetype": "text/x-python",
   "name": "python",
   "nbconvert_exporter": "python",
   "pygments_lexer": "ipython3",
   "version": "3.12.4"
  }
 },
 "nbformat": 4,
 "nbformat_minor": 5
}
